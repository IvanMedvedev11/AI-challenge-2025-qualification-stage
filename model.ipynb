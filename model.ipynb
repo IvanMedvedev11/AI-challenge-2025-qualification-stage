{
 "cells": [
  {
   "cell_type": "code",
   "execution_count": 388,
   "id": "a5e279f7",
   "metadata": {},
   "outputs": [],
   "source": [
    "import numpy\n",
    "import pandas as pd\n",
    "import seaborn as sns\n",
    "from sklearn.model_selection import train_test_split\n",
    "from sklearn.linear_model import LogisticRegression\n",
    "from sklearn.metrics import f1_score\n",
    "from sklearn.preprocessing import OneHotEncoder"
   ]
  },
  {
   "cell_type": "code",
   "execution_count": 389,
   "id": "6d972b40",
   "metadata": {},
   "outputs": [],
   "source": [
    "sns.set(rc={'figure.figsize': (11.7, 8.27)})"
   ]
  },
  {
   "cell_type": "code",
   "execution_count": 390,
   "id": "5b598f5f",
   "metadata": {},
   "outputs": [
    {
     "data": {
      "text/plain": [
       "5635"
      ]
     },
     "execution_count": 390,
     "metadata": {},
     "output_type": "execute_result"
    }
   ],
   "source": [
    "data_train = pd.read_csv(\"data/train.csv\")\n",
    "len(data_train)"
   ]
  },
  {
   "cell_type": "code",
   "execution_count": 391,
   "id": "b57afd0b",
   "metadata": {},
   "outputs": [],
   "source": [
    "X, y = data_train.drop(columns=\"Churn\"), data_train[\"Churn\"]\n",
    "categorical_factors = [\"gender\", \"Partner\", \"Dependents\", \"PhoneService\", \"MultipleLines\", \"InternetService\", \"OnlineSecurity\", \"OnlineBackup\", \"DeviceProtection\", \"TechSupport\", \"StreamingTV\", \"StreamingMovies\", \"PaperlessBilling\", \"PaymentMethod\"]\n",
    "numeric_factors = ['id', 'SeniorCitizen', 'tenure', 'MonthlyCharges', 'TotalCharges']"
   ]
  },
  {
   "cell_type": "code",
   "execution_count": 392,
   "id": "eb5ec18e",
   "metadata": {},
   "outputs": [],
   "source": [
    "for factor in numeric_factors:\n",
    "    floated = X[X[factor] != ' '][factor].astype('float')\n",
    "    X[factor] = X[factor].replace(' ', floated.median())\n",
    "    X[factor] = X[factor].astype('float')"
   ]
  },
  {
   "cell_type": "code",
   "execution_count": 393,
   "id": "94a5274c",
   "metadata": {},
   "outputs": [],
   "source": [
    "for factor in categorical_factors:\n",
    "    not_empty = X[X[factor] != ' '][factor]\n",
    "    X[factor] = X[factor].replace(' ', not_empty.mode()[0])\n"
   ]
  },
  {
   "cell_type": "code",
   "execution_count": null,
   "id": "049a893f",
   "metadata": {},
   "outputs": [
    {
     "data": {
      "text/plain": [
       "5635"
      ]
     },
     "execution_count": 394,
     "metadata": {},
     "output_type": "execute_result"
    }
   ],
   "source": [
    "onehotencoder = OneHotEncoder(sparse_output=False)\n",
    "X_transformed = onehotencoder.fit_transform(X[categorical_factors])\n",
    "X_transformed = pd.DataFrame(X_transformed, columns=onehotencoder.get_feature_names_out()).head(10)\n",
    "X = X.drop(X[categorical_factors], axis=1)\n",
    "X = X.join(X_transformed)\n"
   ]
  },
  {
   "cell_type": "code",
   "execution_count": 397,
   "id": "163a358c",
   "metadata": {},
   "outputs": [],
   "source": [
    "y = y.replace('No', 0)\n",
    "y = y.replace('Yes', 1)\n",
    "y = y.astype('int')"
   ]
  }
 ],
 "metadata": {
  "kernelspec": {
   "display_name": "Python 3",
   "language": "python",
   "name": "python3"
  },
  "language_info": {
   "codemirror_mode": {
    "name": "ipython",
    "version": 3
   },
   "file_extension": ".py",
   "mimetype": "text/x-python",
   "name": "python",
   "nbconvert_exporter": "python",
   "pygments_lexer": "ipython3",
   "version": "3.13.1"
  }
 },
 "nbformat": 4,
 "nbformat_minor": 5
}
